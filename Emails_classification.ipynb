{
 "cells": [
  {
   "cell_type": "markdown",
   "metadata": {},
   "source": [
    "# PROJECT BY : SYEDA UMAIMA TAMKEEN \n",
    "__________________________________________________________________________________________________________________________________________________________________________________   \n",
    "\n",
    "# Project Title: Classifying Emails as Spam or Not Spam \n",
    "\n",
    "**Summary:**\n",
    "In this project, I developed a classification model to automatically detect whether an email is spam or not, using a dataset of labeled emails. I implemented both Naive Bayes and Support Vector Machine (SVM) classifiers, achieving perfect accuracy on both models. This solution enables efficient spam detection, which is crucial for email filtering systems in enhancing user experience and reducing unsolicited communications.\n",
    "\n",
    "> **Key Steps:**\n",
    "\n",
    " 1. **Data Exploration:**\n",
    "\n",
    "- Conducted a thorough analysis of the dataset, inspecting key patterns and relationships.\n",
    "- Visualized the distribution of spam versus non-spam emails to understand the dataset balance.\n",
    "  \n",
    " 2. **Data Preprocessing:**\n",
    "\n",
    "- Cleaned the dataset by handling missing values and removing punctuation, digits, and stopwords.\n",
    "- Applied stemming to reduce words to their base form, making the text more manageable for machine learning models.\n",
    "- Tokenized and vectorized the email content using TF-IDF, focusing on the top 3000 features to capture important textual information.\n",
    "  \n",
    "3. **Feature Extraction:**\n",
    "\n",
    "- Employed TF-IDF vectorization to convert the text data into numerical features, emphasizing important terms that distinguish spam from non-spam.\n",
    "  \n",
    " 4. **Model Training:**\n",
    "\n",
    "- Trained two models: Naive Bayes (Multinomial) and Support Vector Machine (SVM) using a linear kernel.\n",
    "- Applied a train-test split to evaluate model performance on unseen data.\n",
    "  \n",
    " 5. **Model Evaluation:**\n",
    "\n",
    "- Both Naive Bayes and SVM achieved outstanding accuracy:\n",
    "- Naive Bayes Accuracy: **1.00**\n",
    "- SVM Accuracy: **1.00**\n",
    "- The evaluation metrics confirmed the models' perfect precision, recall, and F1-scores, making them highly effective for spam detection.\n",
    "  \n",
    " 6. **Model Fine-Tuning:**\n",
    "\n",
    "- Fine-tuned the models using GridSearchCV, optimizing hyperparameters such as:\n",
    "- Naive Bayes (alpha = 0.5)\n",
    "- SVM (C = 0.1, kernel = 'linear')\n",
    "- Achieved further refinement without compromising performance.\n",
    "  \n",
    "> # Results:\n",
    "\n",
    "**Model Evaluation Metrics:**\n",
    "\n",
    "- Naive Bayes and SVM both achieved 100% accuracy, with perfect precision and recall scores.\n",
    "  \n",
    "**Best Parameters (after tuning):**\n",
    "\n",
    "- Naive Bayes: alpha = 0.5\n",
    "- SVM: C = 0.1, kernel = 'linear'\n",
    "\n",
    "> # Conclusion:\n",
    "\n",
    "Both Naive Bayes and SVM models performed exceptionally well in classifying emails as spam or not spam, achieving 100% accuracy. While the current models provide excellent performance, future iterations could explore handling more complex datasets or applying techniques like ensemble models for robustness. This project demonstrates the feasibility of building highly accurate spam detection systems, which can be deployed in real-world email filtering applications."
   ]
  },
  {
   "cell_type": "markdown",
   "metadata": {},
   "source": [
    "# Import libraries"
   ]
  },
  {
   "cell_type": "code",
   "execution_count": 22,
   "metadata": {},
   "outputs": [],
   "source": [
    "import pandas as pd\n",
    "import numpy as np\n",
    "import seaborn as sns\n",
    "import matplotlib.pyplot as plt\n",
    "import string\n",
    "from nltk.corpus import stopwords\n",
    "from nltk.stem import PorterStemmer\n",
    "import nltk\n",
    "from sklearn.feature_extraction.text import TfidfVectorizer\n",
    "from sklearn.model_selection import train_test_split\n",
    "from sklearn.naive_bayes import MultinomialNB\n",
    "from sklearn.svm import SVC\n",
    "from sklearn.metrics import accuracy_score, classification_report, confusion_matrix\n",
    "from sklearn.model_selection import GridSearchCV"
   ]
  },
  {
   "cell_type": "markdown",
   "metadata": {},
   "source": [
    "# Load the dataset"
   ]
  },
  {
   "cell_type": "code",
   "execution_count": 23,
   "metadata": {},
   "outputs": [],
   "source": [
    "df = pd.read_csv(\"emails_dataset.csv\")"
   ]
  },
  {
   "cell_type": "code",
   "execution_count": 24,
   "metadata": {},
   "outputs": [
    {
     "name": "stdout",
     "output_type": "stream",
     "text": [
      "                                     message_content  is_spam\n",
      "0  Hello Lonnie,\\n\\nJust wanted to touch base reg...        0\n",
      "1  Congratulations, you've won a prize! Call us n...        1\n",
      "2  You have been pre-approved for a credit card w...        1\n",
      "3  Limited time offer, act now! Only a few spots ...        1\n",
      "4  Your loan has been approved! Transfer funds to...        1\n"
     ]
    }
   ],
   "source": [
    "print(df.head())  "
   ]
  },
  {
   "cell_type": "code",
   "execution_count": 5,
   "metadata": {},
   "outputs": [
    {
     "name": "stdout",
     "output_type": "stream",
     "text": [
      "<class 'pandas.core.frame.DataFrame'>\n",
      "RangeIndex: 1000 entries, 0 to 999\n",
      "Data columns (total 2 columns):\n",
      " #   Column           Non-Null Count  Dtype \n",
      "---  ------           --------------  ----- \n",
      " 0   message_content  1000 non-null   object\n",
      " 1   is_spam          1000 non-null   int64 \n",
      "dtypes: int64(1), object(1)\n",
      "memory usage: 15.8+ KB\n",
      "None\n"
     ]
    }
   ],
   "source": [
    "print(df.info())  "
   ]
  },
  {
   "cell_type": "code",
   "execution_count": 6,
   "metadata": {},
   "outputs": [
    {
     "name": "stdout",
     "output_type": "stream",
     "text": [
      "message_content    0\n",
      "is_spam            0\n",
      "dtype: int64\n"
     ]
    }
   ],
   "source": [
    "print(df.isnull().sum())  "
   ]
  },
  {
   "cell_type": "code",
   "execution_count": 7,
   "metadata": {},
   "outputs": [],
   "source": [
    "df.dropna(inplace=True)"
   ]
  },
  {
   "cell_type": "markdown",
   "metadata": {},
   "source": [
    "# Text Preprocessing - Tokenization, stemming, stopword removal"
   ]
  },
  {
   "cell_type": "code",
   "execution_count": 25,
   "metadata": {},
   "outputs": [
    {
     "name": "stderr",
     "output_type": "stream",
     "text": [
      "[nltk_data] Downloading package stopwords to C:\\Users\\SYED HASEEB\n",
      "[nltk_data]     ALI\\AppData\\Roaming\\nltk_data...\n",
      "[nltk_data]   Package stopwords is already up-to-date!\n"
     ]
    }
   ],
   "source": [
    "nltk.download('stopwords')\n",
    "ps = PorterStemmer()\n",
    "stop_words = set(stopwords.words('english'))\n",
    "\n",
    "def preprocess_text(text):\n",
    "    text = text.lower()  \n",
    "    text = ''.join([char for char in text if char not in string.punctuation and not char.isdigit()])  \n",
    "    words = text.split() \n",
    "    words = [ps.stem(word) for word in words if word not in stop_words]  \n",
    "    return ' '.join(words)\n",
    "\n",
    "df['clean_text'] = df['message_content'].apply(preprocess_text)"
   ]
  },
  {
   "cell_type": "markdown",
   "metadata": {},
   "source": [
    "# Data Visualization "
   ]
  },
  {
   "cell_type": "code",
   "execution_count": 33,
   "metadata": {},
   "outputs": [
    {
     "name": "stderr",
     "output_type": "stream",
     "text": [
      "C:\\Users\\SYED HASEEB ALI\\AppData\\Local\\Temp\\ipykernel_5204\\752913031.py:2: FutureWarning: \n",
      "\n",
      "Passing `palette` without assigning `hue` is deprecated and will be removed in v0.14.0. Assign the `x` variable to `hue` and set `legend=False` for the same effect.\n",
      "\n",
      "  sns.countplot(data=df, x='is_spam', palette='Set2')\n"
     ]
    },
    {
     "data": {
      "image/png": "[encoded data removed]",
      "text/plain": [
       "<Figure size 800x600 with 1 Axes>"
      ]
     },
     "metadata": {},
     "output_type": "display_data"
    }
   ],
   "source": [
    "plt.figure(figsize=(8, 6))\n",
    "sns.countplot(data=df, x='is_spam', palette='Set2')\n",
    "plt.title('Distribution of Spam and Not Spam Emails',  fontweight = 'bold')\n",
    "plt.xlabel('Spam (1) or Not Spam (0)',  fontweight = 'bold')\n",
    "plt.ylabel('Count',  fontweight = 'bold')\n",
    "plt.show()"
   ]
  },
  {
   "cell_type": "markdown",
   "metadata": {},
   "source": [
    "# Feature Extraction"
   ]
  },
  {
   "cell_type": "code",
   "execution_count": 26,
   "metadata": {},
   "outputs": [],
   "source": [
    "tfidf = TfidfVectorizer(max_features=3000)  \n",
    "X = tfidf.fit_transform(df['clean_text']).toarray()  \n",
    "y = df['is_spam']"
   ]
  },
  {
   "cell_type": "markdown",
   "metadata": {},
   "source": [
    "# Split dataset into training and testing sets"
   ]
  },
  {
   "cell_type": "code",
   "execution_count": 27,
   "metadata": {},
   "outputs": [],
   "source": [
    "X_train, X_test, y_train, y_test = train_test_split(X, y, test_size=0.2, random_state=42)"
   ]
  },
  {
   "cell_type": "markdown",
   "metadata": {},
   "source": [
    "# Model Selection and Training - Naive Bayes"
   ]
  },
  {
   "cell_type": "code",
   "execution_count": 28,
   "metadata": {},
   "outputs": [],
   "source": [
    "nb_model = MultinomialNB()\n",
    "nb_model.fit(X_train, y_train)\n",
    "y_pred_nb = nb_model.predict(X_test)"
   ]
  },
  {
   "cell_type": "markdown",
   "metadata": {},
   "source": [
    "# Model Evaluation - Naive Bayes"
   ]
  },
  {
   "cell_type": "code",
   "execution_count": 29,
   "metadata": {},
   "outputs": [
    {
     "name": "stdout",
     "output_type": "stream",
     "text": [
      "Naive Bayes Accuracy: 1.0\n",
      "Naive Bayes Classification Report:\n",
      "               precision    recall  f1-score   support\n",
      "\n",
      "           0       1.00      1.00      1.00        99\n",
      "           1       1.00      1.00      1.00       101\n",
      "\n",
      "    accuracy                           1.00       200\n",
      "   macro avg       1.00      1.00      1.00       200\n",
      "weighted avg       1.00      1.00      1.00       200\n",
      "\n"
     ]
    }
   ],
   "source": [
    "print(\"Naive Bayes Accuracy:\", accuracy_score(y_test, y_pred_nb))\n",
    "print(\"Naive Bayes Classification Report:\\n\", classification_report(y_test, y_pred_nb))"
   ]
  },
  {
   "cell_type": "markdown",
   "metadata": {},
   "source": [
    "# Model Selection and Training - Support Vector Machine (SVM)"
   ]
  },
  {
   "cell_type": "code",
   "execution_count": 30,
   "metadata": {},
   "outputs": [],
   "source": [
    "svm_model = SVC(kernel='linear')  \n",
    "svm_model.fit(X_train, y_train)\n",
    "y_pred_svm = svm_model.predict(X_test)"
   ]
  },
  {
   "cell_type": "markdown",
   "metadata": {},
   "source": [
    " # Model Evaluation - SVM"
   ]
  },
  {
   "cell_type": "code",
   "execution_count": 31,
   "metadata": {},
   "outputs": [
    {
     "name": "stdout",
     "output_type": "stream",
     "text": [
      "SVM Accuracy: 1.0\n",
      "SVM Classification Report:\n",
      "               precision    recall  f1-score   support\n",
      "\n",
      "           0       1.00      1.00      1.00        99\n",
      "           1       1.00      1.00      1.00       101\n",
      "\n",
      "    accuracy                           1.00       200\n",
      "   macro avg       1.00      1.00      1.00       200\n",
      "weighted avg       1.00      1.00      1.00       200\n",
      "\n"
     ]
    }
   ],
   "source": [
    "print(\"SVM Accuracy:\", accuracy_score(y_test, y_pred_svm))\n",
    "print(\"SVM Classification Report:\\n\", classification_report(y_test, y_pred_svm))"
   ]
  },
  {
   "cell_type": "markdown",
   "metadata": {},
   "source": [
    "# Fine-Tuning with Grid Search - Naive Bayes"
   ]
  },
  {
   "cell_type": "code",
   "execution_count": 32,
   "metadata": {},
   "outputs": [
    {
     "name": "stdout",
     "output_type": "stream",
     "text": [
      "Best Naive Bayes Parameters: {'alpha': 0.5}\n",
      "Best Naive Bayes Accuracy from GridSearch: 1.0\n"
     ]
    }
   ],
   "source": [
    "param_grid_nb = {'alpha': [0.5, 1.0, 1.5]} \n",
    "grid_nb = GridSearchCV(MultinomialNB(), param_grid_nb, cv=5)\n",
    "grid_nb.fit(X_train, y_train)\n",
    "\n",
    "print(\"Best Naive Bayes Parameters:\", grid_nb.best_params_)\n",
    "print(\"Best Naive Bayes Accuracy from GridSearch:\", grid_nb.best_score_)"
   ]
  },
  {
   "cell_type": "markdown",
   "metadata": {},
   "source": [
    "# Fine-tuning with Grid Search - SVM"
   ]
  },
  {
   "cell_type": "code",
   "execution_count": 17,
   "metadata": {},
   "outputs": [
    {
     "name": "stdout",
     "output_type": "stream",
     "text": [
      "Best SVM Parameters: {'C': 0.1, 'kernel': 'linear'}\n",
      "Best SVM Accuracy from GridSearch: 1.0\n"
     ]
    }
   ],
   "source": [
    "param_grid_svm = {'C': [0.1, 1, 10], 'kernel': ['linear', 'rbf']}  \n",
    "grid_svm = GridSearchCV(SVC(), param_grid_svm, cv=5)\n",
    "grid_svm.fit(X_train, y_train)\n",
    "\n",
    "print(\"Best SVM Parameters:\", grid_svm.best_params_)\n",
    "print(\"Best SVM Accuracy from GridSearch:\", grid_svm.best_score_)"
   ]
  },
  {
   "cell_type": "code",
   "execution_count": 18,
   "metadata": {},
   "outputs": [
    {
     "name": "stdout",
     "output_type": "stream",
     "text": [
      "Tuned Naive Bayes Accuracy: 1.0\n",
      "Tuned Naive Bayes Report:\n",
      "               precision    recall  f1-score   support\n",
      "\n",
      "           0       1.00      1.00      1.00        99\n",
      "           1       1.00      1.00      1.00       101\n",
      "\n",
      "    accuracy                           1.00       200\n",
      "   macro avg       1.00      1.00      1.00       200\n",
      "weighted avg       1.00      1.00      1.00       200\n",
      "\n",
      "Tuned SVM Accuracy: 1.0\n",
      "Tuned SVM Report:\n",
      "               precision    recall  f1-score   support\n",
      "\n",
      "           0       1.00      1.00      1.00        99\n",
      "           1       1.00      1.00      1.00       101\n",
      "\n",
      "    accuracy                           1.00       200\n",
      "   macro avg       1.00      1.00      1.00       200\n",
      "weighted avg       1.00      1.00      1.00       200\n",
      "\n"
     ]
    }
   ],
   "source": [
    "nb_model_tuned = MultinomialNB(alpha=grid_nb.best_params_['alpha'])\n",
    "nb_model_tuned.fit(X_train, y_train)\n",
    "y_pred_nb_tuned = nb_model_tuned.predict(X_test)\n",
    "print(\"Tuned Naive Bayes Accuracy:\", accuracy_score(y_test, y_pred_nb_tuned))\n",
    "print(\"Tuned Naive Bayes Report:\\n\", classification_report(y_test, y_pred_nb_tuned))\n",
    "\n",
    "svm_model_tuned = SVC(C=grid_svm.best_params_['C'], kernel=grid_svm.best_params_['kernel'])\n",
    "svm_model_tuned.fit(X_train, y_train)\n",
    "y_pred_svm_tuned = svm_model_tuned.predict(X_test)\n",
    "print(\"Tuned SVM Accuracy:\", accuracy_score(y_test, y_pred_svm_tuned))\n",
    "print(\"Tuned SVM Report:\\n\", classification_report(y_test, y_pred_svm_tuned))\n"
   ]
  },
  {
   "cell_type": "code",
   "execution_count": 42,
   "metadata": {},
   "outputs": [
    {
     "data": {
      "image/png": "[encoded data removed]",
      "text/plain": [
       "<Figure size 800x600 with 1 Axes>"
      ]
     },
     "metadata": {},
     "output_type": "display_data"
    }
   ],
   "source": [
    "nb_accuracy = accuracy_score(y_test, y_pred_nb_tuned)\n",
    "svm_accuracy = accuracy_score(y_test, y_pred_svm_tuned)\n",
    "\n",
    "models = ['Naive Bayes', 'SVM']\n",
    "accuracies = [nb_accuracy, svm_accuracy]\n",
    "\n",
    "plt.figure(figsize=(8, 6))\n",
    "plt.bar(models, accuracies, color=['orange', 'green'])\n",
    "plt.ylabel('Accuracy' ,  fontweight = 'bold')\n",
    "plt.title('Accuracy Comparison: Naive Bayes vs SVM' ,  fontweight = 'bold')\n",
    "plt.ylim([0.5, 1]) \n",
    "plt.show()"
   ]
  },
  {
   "cell_type": "code",
   "execution_count": 36,
   "metadata": {},
   "outputs": [
    {
     "data": {
      "image/png": "[encoded data removed]",
      "text/plain": [
       "<Figure size 1000x700 with 2 Axes>"
      ]
     },
     "metadata": {},
     "output_type": "display_data"
    }
   ],
   "source": [
    "best_model = nb_model_tuned  \n",
    "y_pred = best_model.predict(X_test)\n",
    "cm = confusion_matrix(y_test, y_pred)\n",
    "\n",
    "plt.figure(figsize=(10, 7))\n",
    "sns.heatmap(cm, annot=True, fmt='d', cmap='Blues',\n",
    "            xticklabels=['Not Spam', 'Spam'],\n",
    "            yticklabels=['Not Spam', 'Spam'])\n",
    "plt.xlabel('Predicted Label' ,  fontweight = 'bold')\n",
    "plt.ylabel('True Label',  fontweight = 'bold')\n",
    "plt.title('Confusion Matrix',  fontweight = 'bold')\n",
    "plt.show()"
   ]
  },
  {
   "cell_type": "code",
   "execution_count": 40,
   "metadata": {},
   "outputs": [
    {
     "data": {
      "image/png": "[encoded data removed]",
      "text/plain": [
       "<Figure size 800x600 with 1 Axes>"
      ]
     },
     "metadata": {},
     "output_type": "display_data"
    }
   ],
   "source": [
    "df['message_length'] = df['clean_text'].apply(len)\n",
    "plt.figure(figsize=(8, 6))\n",
    "sns.histplot(df[df['is_spam'] == 0]['message_length'], bins=30, color='green', label='Not Spam')\n",
    "sns.histplot(df[df['is_spam'] == 1]['message_length'], bins=30, color='orange', label='Spam')\n",
    "plt.legend()\n",
    "plt.title('Message Length Distribution: Spam vs Not Spam' ,  fontweight = 'bold')\n",
    "plt.show()"
   ]
  }
 ],
 "metadata": {
  "kernelspec": {
   "display_name": "Python 3",
   "language": "python",
   "name": "python3"
  },
  "language_info": {
   "codemirror_mode": {
    "name": "ipython",
    "version": 3
   },
   "file_extension": ".py",
   "mimetype": "text/x-python",
   "name": "python",
   "nbconvert_exporter": "python",
   "pygments_lexer": "ipython3",
   "version": "3.12.5"
  }
 },
 "nbformat": 4,
 "nbformat_minor": 2
}
